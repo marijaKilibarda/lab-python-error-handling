{
 "cells": [
  {
   "cell_type": "code",
   "execution_count": 1,
   "id": "16fb604d-8b7f-4c5e-9374-8a74a98d7283",
   "metadata": {},
   "outputs": [
    {
     "name": "stdin",
     "output_type": "stream",
     "text": [
      "Enter the quantity of t-shirts available:  6\n",
      "Enter the quantity of mugs available:  8\n",
      "Enter the quantity of hats available:  8\n",
      "Enter the quantity of books available:  9\n",
      "Enter the quantity of keychains available:  9\n",
      "Enter the name of product to order:  mug\n",
      "Enter the name of product to order:  hata\n"
     ]
    },
    {
     "name": "stdout",
     "output_type": "stream",
     "text": [
      "Invalid product name or out of stock. Please enter a valid product name.\n"
     ]
    },
    {
     "name": "stdin",
     "output_type": "stream",
     "text": [
      "Enter the name of product to order:  hat\n",
      "Enter the name of product to order:  hatr\n"
     ]
    },
    {
     "name": "stdout",
     "output_type": "stream",
     "text": [
      "Invalid product name or out of stock. Please enter a valid product name.\n"
     ]
    },
    {
     "name": "stdin",
     "output_type": "stream",
     "text": [
      "Enter the name of product to order:  keychain\n"
     ]
    },
    {
     "name": "stdout",
     "output_type": "stream",
     "text": [
      "Customer Orders: {'hat', 'mug', 'keychain'}\n"
     ]
    },
    {
     "name": "stdin",
     "output_type": "stream",
     "text": [
      "Enter the price of t-shirt:  5\n",
      "Enter the price of mug:  7\n",
      "Enter the price of hat:  6\n",
      "Enter the price of book:  4\n",
      "Enter the price of keychain:  78\n"
     ]
    },
    {
     "name": "stdout",
     "output_type": "stream",
     "text": [
      "Total price of inventory: $872.00\n"
     ]
    }
   ],
   "source": [
    "#include error handling for managing customer orders\n",
    "\n",
    "def initialize_inventory(products):\n",
    "    \"\"\"\n",
    "    The example  given in exercise. \n",
    "    \n",
    "    \"\"\"\n",
    "    inventory = {}\n",
    "    for product in products:\n",
    "        valid_input = False\n",
    "        while not valid_input:\n",
    "            try:\n",
    "                quantity = int(input(f\"Enter the quantity of {product}s available: \"))\n",
    "                if quantity >= 0:\n",
    "                    inventory[product] = quantity\n",
    "                    valid_input = True\n",
    "                else:\n",
    "                    print(\"Quantity cannot be negative. Please enter a valid quantity.\")\n",
    "            except ValueError:\n",
    "                print(\"Invalid input. Please enter a valid quantity.\")\n",
    "    return inventory\n",
    "    \n",
    "def calculate_total_price(inventory):\n",
    "    \"\"\"\n",
    "    Calculates the total price of inventory using a loop.\n",
    "    \n",
    "    Returns: A set of product names ordered by the customer.\n",
    "    \n",
    "    \"\"\"\n",
    "    total_price = 0\n",
    "    for product, quantity in inventory.items():\n",
    "        valid_price = False\n",
    "        while not valid_price:\n",
    "            try:\n",
    "                price = float(input(f\"Enter the price of {product}: \"))\n",
    "                if price < 0:\n",
    "                    raise ValueError(\"Price cannot be negative. Please enter a valid price.\")\n",
    "                valid_price = True\n",
    "            except ValueError as error:\n",
    "                print(f\"Error: {error}\")\n",
    "        total_price += price * quantity\n",
    "    return total_price\n",
    "\n",
    "\n",
    "def get_customer_orders(inventory):\n",
    "    \"\"\"\n",
    "    Prompts the user to enter product names for customer orders using a loop.\n",
    "    \n",
    "    Returns: A set of product names ordered by the customer.\n",
    "    \n",
    "    \"\"\"\n",
    "    customer_orders = set()\n",
    "    for i in range(3):\n",
    "        valid_order = False\n",
    "        while not valid_order:\n",
    "            order = input(\"Enter the name of product to order: \").strip().lower()\n",
    "            if order in inventory and inventory[order] > 0:\n",
    "                customer_orders.add(order)\n",
    "                valid_order = True\n",
    "            else:\n",
    "                print(f\"Invalid product name or out of stock. Please enter a valid product name.\")\n",
    "    return customer_orders\n",
    "\n",
    "products = [\"t-shirt\", \"mug\", \"hat\", \"book\", \"keychain\"]\n",
    "inventory = initialize_inventory(products)\n",
    "customer_orders = get_customer_orders(inventory)\n",
    "print(\"Customer Orders:\", customer_orders)\n",
    "total_price = calculate_total_price(inventory)\n",
    "print(f\"Total price of inventory: ${total_price:.2f}\")"
   ]
  }
 ],
 "metadata": {
  "kernelspec": {
   "display_name": "Python 3 (ipykernel)",
   "language": "python",
   "name": "python3"
  },
  "language_info": {
   "codemirror_mode": {
    "name": "ipython",
    "version": 3
   },
   "file_extension": ".py",
   "mimetype": "text/x-python",
   "name": "python",
   "nbconvert_exporter": "python",
   "pygments_lexer": "ipython3",
   "version": "3.12.4"
  }
 },
 "nbformat": 4,
 "nbformat_minor": 5
}
